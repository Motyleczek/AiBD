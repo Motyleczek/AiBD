{
 "cells": [
  {
   "cell_type": "markdown",
   "id": "a3bf22ba",
   "metadata": {},
   "source": [
    "Michał Motyl, 401943\n",
    "\n",
    "### Zadanie 3.\n",
    "\n",
    "Zdefiniuj poniższą funkcję i sporządź jej wykres dla argumentów z danego przedziału:\n",
    "\n",
    "$f(x)=x^2+5$\n",
    "\n",
    "$x>-1 \\space oraz \\space x<1$\n",
    "\n",
    "$x>-6 \\space oraz \\space x<6$\n",
    "\n",
    "$x>0 \\space oraz \\space x<5$\n",
    "\n"
   ]
  },
  {
   "cell_type": "code",
   "execution_count": 1,
   "id": "151ad474",
   "metadata": {},
   "outputs": [
    {
     "data": {
      "image/png": "[encoded data removed]",
      "text/plain": [
       "<Figure size 1080x360 with 3 Axes>"
      ]
     },
     "metadata": {
      "needs_background": "light"
     },
     "output_type": "display_data"
    }
   ],
   "source": [
    "# Żeby móc używać odpowiednich bibliotek importuje je, dodatkowo nadając im odpowiednie aliasy\n",
    "import matplotlib.pyplot as plt\n",
    "import numpy as np\n",
    "\n",
    "# Tworzę funkcję, której będę używać przy tworzeniu wykresów\n",
    "fcn = lambda x: x**2 + 5 \n",
    "\n",
    "# Zapisuje 3 interwały do późniejszego uzytku\n",
    "interval_1 = np.linspace(-1, 1, 100)\n",
    "interval_2 = np.linspace(-6, 6, 100)\n",
    "interval_3 = np.linspace(0, 5, 100)\n",
    "\n",
    "# Tworze odpowiednie obiekty do przejrzystej prezentacji danych\n",
    "fig, [ax1, ax2, ax3] = plt.subplots(1,3, figsize=[15,5])\n",
    "\n",
    "# Rysuje pierwszy przedział\n",
    "ax1.plot(interval_1, fcn(interval_1))\n",
    "ax1.grid()\n",
    "ax1.set_title('Funkcja $f(x)=x^2+5$, pierwszy przedział')\n",
    "ax1.set_ylabel('Oś y')\n",
    "ax1.set_xlabel('Oś x')\n",
    "ax1.legend(['$f(x)=x^2+5$'])\n",
    "ax1.set_xlim([-6,6])\n",
    "ax1.set_ylim([4,41])\n",
    "\n",
    "# Rysuje drugi przedział\n",
    "ax2.plot(interval_2, fcn(interval_2))\n",
    "ax2.grid()\n",
    "ax2.set_title('Funkcja $f(x)=x^2+5$, drugi przedział')\n",
    "ax2.set_ylabel('Oś y')\n",
    "ax2.set_xlabel('Oś x')\n",
    "ax2.legend(['$f(x)=x^2+5$'])\n",
    "ax2.set_xlim([-6,6])\n",
    "ax2.set_ylim([4,41])\n",
    "\n",
    "# Rysuje trzeci przedział\n",
    "ax3.plot(interval_3, fcn(interval_3))\n",
    "ax3.grid()\n",
    "ax3.set_title('Funkcja $f(x)=x^2+5$, trzeci przedział')\n",
    "ax3.set_ylabel('Oś y')\n",
    "ax3.set_xlabel('Oś x')\n",
    "ax3.legend(['$f(x)=x^2+5$'])\n",
    "ax3.set_xlim([-6,6])\n",
    "ax3.set_ylim([4,41])\n",
    "\n",
    "# Na wszystkich wykresach ustawiam takie same limity osi żeby lepiej dało się porównać różne przedziały\n",
    "\n",
    "# Pokazuje efekt\n",
    "plt.show()"
   ]
  },
  {
   "cell_type": "markdown",
   "id": "ba62c0e1",
   "metadata": {},
   "source": [
    "## Zadanie 4\n",
    "\n",
    "Utwórz dataframe, w którym kolumny mają nazwy: name, surname, age, sex. Uzupełnij pięcioma dowolnymi rekordami oraz wyświetl informacje o danych pandas info, opis danych pandas describe, wyświetl pierwsze trzy rekordy pandas head."
   ]
  },
  {
   "cell_type": "code",
   "execution_count": 2,
   "id": "31ab0c5b",
   "metadata": {},
   "outputs": [
    {
     "name": "stdout",
     "output_type": "stream",
     "text": [
      "<class 'pandas.core.frame.DataFrame'>\n",
      "RangeIndex: 5 entries, 0 to 4\n",
      "Data columns (total 4 columns):\n",
      " #   Column   Non-Null Count  Dtype \n",
      "---  ------   --------------  ----- \n",
      " 0   name     5 non-null      object\n",
      " 1   surname  5 non-null      object\n",
      " 2   age      5 non-null      int64 \n",
      " 3   sex      5 non-null      object\n",
      "dtypes: int64(1), object(3)\n",
      "memory usage: 288.0+ bytes\n"
     ]
    }
   ],
   "source": [
    "# Jak poprzednio zaczynam od importu niezbędnej biblioteki\n",
    "import pandas as pd\n",
    "\n",
    "# Tworzę słownik, który następnie użyje przy stworzeniu dataframe'u\n",
    "dict_to_df = {'name': ['Alex', 'Marty', 'Melman', 'Gloria', 'Julian'], \n",
    "              'surname': ['Lion', 'Zebra', 'Dżiraffe', 'Hippo', 'Krul'],\n",
    "              'age': [23, 21, 25, 23, 13],\n",
    "              'sex': ['male', 'male', 'male', 'female', 'party-animal']}\n",
    "\n",
    "# Przy użyciu słownika stworzonego wyżej tworzę dataframe\n",
    "df_sex = pd.DataFrame.from_dict(dict_to_df)\n",
    "\n",
    "# Wyświetlam info o dataframe\n",
    "df_sex.info()"
   ]
  },
  {
   "cell_type": "code",
   "execution_count": 3,
   "id": "b69c860f",
   "metadata": {},
   "outputs": [
    {
     "data": {
      "text/html": [
       "<div>\n",
       "<style scoped>\n",
       "    .dataframe tbody tr th:only-of-type {\n",
       "        vertical-align: middle;\n",
       "    }\n",
       "\n",
       "    .dataframe tbody tr th {\n",
       "        vertical-align: top;\n",
       "    }\n",
       "\n",
       "    .dataframe thead th {\n",
       "        text-align: right;\n",
       "    }\n",
       "</style>\n",
       "<table border=\"1\" class=\"dataframe\">\n",
       "  <thead>\n",
       "    <tr style=\"text-align: right;\">\n",
       "      <th></th>\n",
       "      <th>age</th>\n",
       "    </tr>\n",
       "  </thead>\n",
       "  <tbody>\n",
       "    <tr>\n",
       "      <th>count</th>\n",
       "      <td>5.000000</td>\n",
       "    </tr>\n",
       "    <tr>\n",
       "      <th>mean</th>\n",
       "      <td>21.000000</td>\n",
       "    </tr>\n",
       "    <tr>\n",
       "      <th>std</th>\n",
       "      <td>4.690416</td>\n",
       "    </tr>\n",
       "    <tr>\n",
       "      <th>min</th>\n",
       "      <td>13.000000</td>\n",
       "    </tr>\n",
       "    <tr>\n",
       "      <th>25%</th>\n",
       "      <td>21.000000</td>\n",
       "    </tr>\n",
       "    <tr>\n",
       "      <th>50%</th>\n",
       "      <td>23.000000</td>\n",
       "    </tr>\n",
       "    <tr>\n",
       "      <th>75%</th>\n",
       "      <td>23.000000</td>\n",
       "    </tr>\n",
       "    <tr>\n",
       "      <th>max</th>\n",
       "      <td>25.000000</td>\n",
       "    </tr>\n",
       "  </tbody>\n",
       "</table>\n",
       "</div>"
      ],
      "text/plain": [
       "             age\n",
       "count   5.000000\n",
       "mean   21.000000\n",
       "std     4.690416\n",
       "min    13.000000\n",
       "25%    21.000000\n",
       "50%    23.000000\n",
       "75%    23.000000\n",
       "max    25.000000"
      ]
     },
     "execution_count": 3,
     "metadata": {},
     "output_type": "execute_result"
    }
   ],
   "source": [
    "# Wyświetlam describe dataframe\n",
    "# Jak widać pokazała się tylko kolumna 'age' - jako jedyna ma dane liczbowe. \n",
    "df_sex.describe()"
   ]
  },
  {
   "cell_type": "code",
   "execution_count": 4,
   "id": "7bfd6a5f",
   "metadata": {},
   "outputs": [
    {
     "data": {
      "text/html": [
       "<div>\n",
       "<style scoped>\n",
       "    .dataframe tbody tr th:only-of-type {\n",
       "        vertical-align: middle;\n",
       "    }\n",
       "\n",
       "    .dataframe tbody tr th {\n",
       "        vertical-align: top;\n",
       "    }\n",
       "\n",
       "    .dataframe thead th {\n",
       "        text-align: right;\n",
       "    }\n",
       "</style>\n",
       "<table border=\"1\" class=\"dataframe\">\n",
       "  <thead>\n",
       "    <tr style=\"text-align: right;\">\n",
       "      <th></th>\n",
       "      <th>name</th>\n",
       "      <th>surname</th>\n",
       "      <th>age</th>\n",
       "      <th>sex</th>\n",
       "    </tr>\n",
       "  </thead>\n",
       "  <tbody>\n",
       "    <tr>\n",
       "      <th>0</th>\n",
       "      <td>Alex</td>\n",
       "      <td>Lion</td>\n",
       "      <td>23</td>\n",
       "      <td>male</td>\n",
       "    </tr>\n",
       "    <tr>\n",
       "      <th>1</th>\n",
       "      <td>Marty</td>\n",
       "      <td>Zebra</td>\n",
       "      <td>21</td>\n",
       "      <td>male</td>\n",
       "    </tr>\n",
       "    <tr>\n",
       "      <th>2</th>\n",
       "      <td>Melman</td>\n",
       "      <td>Dżiraffe</td>\n",
       "      <td>25</td>\n",
       "      <td>male</td>\n",
       "    </tr>\n",
       "  </tbody>\n",
       "</table>\n",
       "</div>"
      ],
      "text/plain": [
       "     name   surname  age   sex\n",
       "0    Alex      Lion   23  male\n",
       "1   Marty     Zebra   21  male\n",
       "2  Melman  Dżiraffe   25  male"
      ]
     },
     "execution_count": 4,
     "metadata": {},
     "output_type": "execute_result"
    }
   ],
   "source": [
    "# Wyświetlam pierwsze 3 rekordy mojego dataframe\n",
    "df_sex.head(3)"
   ]
  },
  {
   "cell_type": "code",
   "execution_count": null,
   "id": "0e86bbd1",
   "metadata": {},
   "outputs": [],
   "source": []
  }
 ],
 "metadata": {
  "kernelspec": {
   "display_name": "Python 3",
   "language": "python",
   "name": "python3"
  },
  "language_info": {
   "codemirror_mode": {
    "name": "ipython",
    "version": 3
   },
   "file_extension": ".py",
   "mimetype": "text/x-python",
   "name": "python",
   "nbconvert_exporter": "python",
   "pygments_lexer": "ipython3",
   "version": "3.8.8"
  }
 },
 "nbformat": 4,
 "nbformat_minor": 5
}
